{
  "cells": [
    {
      "attachments": {},
      "cell_type": "markdown",
      "metadata": {
        "id": "snMOKwOyIdKW"
      },
      "source": [
        "# 1. Load pretrained Vietnamese word2vec"
      ]
    },
    {
      "cell_type": "code",
      "execution_count": 1,
      "metadata": {
        "colab": {
          "base_uri": "https://localhost:8080/"
        },
        "id": "2eTR2kPh4RJ4",
        "outputId": "6a936c52-8285-43e5-8f18-d3b9581f4a80"
      },
      "outputs": [
        {
          "name": "stderr",
          "output_type": "stream",
          "text": [
            "d:\\code\\Python\\Vietnamese-Sentiment-Analysis\\venv\\lib\\site-packages\\tqdm\\auto.py:22: TqdmWarning: IProgress not found. Please update jupyter and ipywidgets. See https://ipywidgets.readthedocs.io/en/stable/user_install.html\n",
            "  from .autonotebook import tqdm as notebook_tqdm\n"
          ]
        },
        {
          "data": {
            "text/plain": [
              "torch.Size([1587507, 100])"
            ]
          },
          "execution_count": 1,
          "metadata": {},
          "output_type": "execute_result"
        }
      ],
      "source": [
        "import torch\n",
        "import torchtext.vocab as vocab\n",
        "\n",
        "word_embedding = vocab.Vectors(name=\"vi_word2vec.txt\",\n",
        "                               unk_init=torch.Tensor.normal_)\n",
        "\n",
        "word_embedding.vectors.shape"
      ]
    },
    {
      "cell_type": "code",
      "execution_count": 2,
      "metadata": {
        "colab": {
          "base_uri": "https://localhost:8080/"
        },
        "id": "8vVipzI7jKlR",
        "outputId": "752333f1-0e58-42d2-8fa0-177b3adefc46"
      },
      "outputs": [
        {
          "data": {
            "text/plain": [
              "[('Việt_Nam', 0.0),\n",
              " ('VN', 0.6608753204345703),\n",
              " ('Trung_Quốc', 0.6805075407028198),\n",
              " ('nước', 0.7456551790237427),\n",
              " ('TQ', 0.7542526721954346),\n",
              " ('của', 0.7784993648529053),\n",
              " ('biển', 0.7814522385597229),\n",
              " ('vùng_biển', 0.7835540175437927),\n",
              " ('Singapore', 0.7879586219787598),\n",
              " ('và', 0.7881313562393188)]"
            ]
          },
          "execution_count": 2,
          "metadata": {},
          "output_type": "execute_result"
        }
      ],
      "source": [
        "def get_vector(embeddings, word):\n",
        "    \"\"\" Get embedding vector of the word\n",
        "    @param embeddings (torchtext.vocab.vectors.Vectors)\n",
        "    @param word (str)\n",
        "    @return vector (torch.Tensor)\n",
        "    \"\"\"\n",
        "    assert word in embeddings.stoi, f'*{word}* is not in the vocab!'\n",
        "    return embeddings.vectors[embeddings.stoi[word]]\n",
        "\n",
        "def closest_words(embeddings, vector, n=10):\n",
        "    \"\"\" Return n words closest in meaning to the word\n",
        "    @param embeddings (torchtext.vocab.vectors.Vectors)\n",
        "    @param vector (torch.Tensor)\n",
        "    @param n (int)\n",
        "    @return words (list(tuple(str, float)))\n",
        "    \"\"\"\n",
        "    distances = [(word, torch.dist(vector, get_vector(embeddings, word)).item())\n",
        "                 for word in embeddings.itos]\n",
        "    \n",
        "    return sorted(distances, key = lambda w: w[1])[:n]\n",
        "\n",
        "\n",
        "word_vector = get_vector(word_embedding, \"Việt_Nam\")\n",
        "\n",
        "closest_words(word_embedding, word_vector)"
      ]
    },
    {
      "attachments": {},
      "cell_type": "markdown",
      "metadata": {
        "id": "_Bj5im3czmtH"
      },
      "source": [
        "# 2. Vocabulary.py"
      ]
    },
    {
      "cell_type": "code",
      "execution_count": 3,
      "metadata": {
        "id": "JDWkevH2VdBn"
      },
      "outputs": [],
      "source": [
        "import torch\n",
        "from tqdm import tqdm\n",
        "from underthesea import word_tokenize\n",
        "\n",
        "\n",
        "class Vocabulary:\n",
        "    \"\"\" The Vocabulary class is used to record words, which are used to convert \n",
        "        text to numbers and vice versa.\n",
        "    \"\"\"\n",
        "\n",
        "    def __init__(self):\n",
        "        self.word2id = dict()\n",
        "        self.word2id['<pad>'] = 0   # Pad Token\n",
        "        self.word2id['<unk>'] = 1   # Unknown Token\n",
        "        self.unk_id = self.word2id['<unk>']\n",
        "        self.id2word = {v: k for k, v in self.word2id.items()}\n",
        "\n",
        "    def __getitem__(self, word):\n",
        "        return self.word2id.get(word, self.unk_id)\n",
        "\n",
        "    def __contains__(self, word):\n",
        "        return word in self.word2id \n",
        "    \n",
        "    def __len__(self):\n",
        "        return len(self.word2id)\n",
        "\n",
        "    def id2word(self, word_index):\n",
        "        \"\"\"\n",
        "        @param word_index (int)\n",
        "        @return word (str)\n",
        "        \"\"\"\n",
        "        return self.id2word[word_index]\n",
        "\n",
        "    def add(self, word):\n",
        "        \"\"\" Add word to vocabulary\n",
        "        @param word (str)\n",
        "        @return index (str): index of the word just added\n",
        "        \"\"\"\n",
        "        if word not in self:\n",
        "            word_index = self.word2id[word] = len(self.word2id)\n",
        "            self.id2word[word_index] = word\n",
        "            return word_index\n",
        "        else:\n",
        "            return self[word]\n",
        "\n",
        "    @staticmethod\n",
        "    def tokenize_corpus(corpus):\n",
        "        \"\"\"Split the documents of the corpus into words\n",
        "        @param corpus (list(str)): list of documents\n",
        "        @return tokenized_corpus (list(list(str))): list of words\n",
        "        \"\"\"\n",
        "        print(\"Tokenize the corpus...\")\n",
        "        tokenized_corpus = list()\n",
        "        for document in tqdm(corpus):\n",
        "            tokenized_document = [word.replace(\" \", \"_\") for word in word_tokenize(document)]\n",
        "            tokenized_corpus.append(tokenized_document)\n",
        "\n",
        "        return tokenized_corpus\n",
        "\n",
        "    def corpus_to_tensor(self, corpus, is_tokenized=False):\n",
        "        \"\"\" Convert corpus to a list of indices tensor\n",
        "        @param corpus (list(str) if is_tokenized==False else list(list(str)))\n",
        "        @param is_tokenized (bool)\n",
        "        @return indicies_corpus (list(tensor))\n",
        "        \"\"\"\n",
        "        if is_tokenized:\n",
        "            tokenized_corpus = corpus\n",
        "        else:\n",
        "            tokenized_corpus = self.tokenize_corpus(corpus)\n",
        "        indicies_corpus = list()\n",
        "        for document in tqdm(tokenized_corpus):\n",
        "            indicies_document = torch.tensor(list(map(lambda word: self[word], document)),\n",
        "                                             dtype=torch.int64)\n",
        "            indicies_corpus.append(indicies_document)\n",
        "\n",
        "        return indicies_corpus\n",
        "\n",
        "    def tensor_to_corpus(self, tensor):\n",
        "        \"\"\" Convert list of indices tensor to a list of tokenized documents\n",
        "        @param indicies_corpus (list(tensor))\n",
        "        @return corpus (list(list(str)))\n",
        "        \"\"\"\n",
        "        corpus = list()\n",
        "        for indicies in tqdm(tensor):\n",
        "            document = list(map(lambda index: self.id2word[index.item()], indicies))\n",
        "            corpus.append(document)\n",
        "\n",
        "        return corpus"
      ]
    },
    {
      "cell_type": "code",
      "execution_count": 4,
      "metadata": {
        "colab": {
          "base_uri": "https://localhost:8080/"
        },
        "id": "r4oM-dAhOuZb",
        "outputId": "bf32aa99-0427-4ea5-d75d-8aaf922fdfc1"
      },
      "outputs": [
        {
          "name": "stdout",
          "output_type": "stream",
          "text": [
            "Tokenize the corpus...\n"
          ]
        },
        {
          "name": "stderr",
          "output_type": "stream",
          "text": [
            "100%|██████████| 3/3 [00:00<00:00, 36.55it/s]\n"
          ]
        },
        {
          "data": {
            "text/plain": [
              "[['Với',\n",
              "  'cộng_đồng',\n",
              "  'người',\n",
              "  'Bách',\n",
              "  'Việt',\n",
              "  'trước',\n",
              "  'đây',\n",
              "  ',',\n",
              "  'việc',\n",
              "  'thuần_hóa',\n",
              "  'mèo',\n",
              "  'cũng',\n",
              "  'có_thể',\n",
              "  'theo',\n",
              "  'cách_thức',\n",
              "  'như_vậy',\n",
              "  '.'],\n",
              " ['Tuy_nhiên',\n",
              "  ',',\n",
              "  'rất',\n",
              "  'khó',\n",
              "  'xác_định',\n",
              "  'được',\n",
              "  'thời_gian',\n",
              "  'cụ_thể',\n",
              "  'loài',\n",
              "  'mèo',\n",
              "  'được',\n",
              "  'thuần_hóa',\n",
              "  '.'],\n",
              " ['Chỉ',\n",
              "  'biết',\n",
              "  'rằng',\n",
              "  ',',\n",
              "  'từ',\n",
              "  'xa_xưa',\n",
              "  ',',\n",
              "  'mèo',\n",
              "  'đã',\n",
              "  'là',\n",
              "  'vật_nuôi',\n",
              "  'thân_quen',\n",
              "  'trong',\n",
              "  'hầu_hết',\n",
              "  'gia_đình',\n",
              "  'nông_dân',\n",
              "  'Việt_Nam',\n",
              "  '.']]"
            ]
          },
          "execution_count": 4,
          "metadata": {},
          "output_type": "execute_result"
        }
      ],
      "source": [
        "corpus_sample = [\"Với cộng đồng người Bách Việt trước đây, việc thuần hóa mèo cũng có thể theo cách thức như vậy.\",\n",
        "                 \"Tuy nhiên, rất khó xác định được thời gian cụ thể loài mèo được thuần hóa.\",\n",
        "                 \"Chỉ biết rằng, từ xa xưa, mèo đã là vật nuôi thân quen trong hầu hết gia đình nông dân Việt Nam.\"]\n",
        "\n",
        "Vocabulary.tokenize_corpus(corpus_sample)"
      ]
    },
    {
      "cell_type": "code",
      "execution_count": 5,
      "metadata": {
        "colab": {
          "base_uri": "https://localhost:8080/",
          "height": 104
        },
        "id": "AjQyzXf-mKt5",
        "outputId": "c5b80921-94c2-482b-c02d-9e6c8043a6a0"
      },
      "outputs": [
        {
          "name": "stdout",
          "output_type": "stream",
          "text": [
            "Tokenize the corpus...\n"
          ]
        },
        {
          "name": "stderr",
          "output_type": "stream",
          "text": [
            "100%|██████████| 3/3 [00:00<00:00, 373.75it/s]\n",
            "100%|██████████| 3/3 [00:00<?, ?it/s]\n",
            "100%|██████████| 3/3 [00:01<00:00,  2.27it/s]\n"
          ]
        },
        {
          "data": {
            "text/plain": [
              "'Với cộng_đồng người Bách Việt trước đây , việc <unk> mèo cũng có_thể theo cách_thức như_vậy .'"
            ]
          },
          "execution_count": 5,
          "metadata": {},
          "output_type": "execute_result"
        }
      ],
      "source": [
        "vocab = Vocabulary()\n",
        "\n",
        "# create vocabulary from pretrained word2vec\n",
        "words_list = list(word_embedding.stoi.keys())\n",
        "for word in words_list:\n",
        "    vocab.add(word)\n",
        "\n",
        "# test the vocabulary\n",
        "tensor = vocab.corpus_to_tensor(corpus_sample)\n",
        "corpus = vocab.tensor_to_corpus(tensor)\n",
        "\" \".join(corpus[0])"
      ]
    },
    {
      "attachments": {},
      "cell_type": "markdown",
      "metadata": {
        "id": "JqryaYlKzrUC"
      },
      "source": [
        "# 3. IMDBDataset.py"
      ]
    },
    {
      "cell_type": "code",
      "execution_count": 6,
      "metadata": {
        "id": "uRlIfvhsXqKL"
      },
      "outputs": [],
      "source": [
        "import pandas as pd\n",
        "import torch\n",
        "from torch.utils.data import Dataset\n",
        "\n",
        "\n",
        "class IMDBDataset(Dataset):\n",
        "    \"\"\" Load dataset from file csv\n",
        "    \"\"\"\n",
        "\n",
        "    def __init__(self, vocab, csv_fpath=None, tokenized_fpath=None):\n",
        "        \"\"\"\n",
        "        @param vocab (Vocabulary)\n",
        "        @param csv_fpath (str)\n",
        "        @param tokenized_fpath (str)\n",
        "        \"\"\"\n",
        "        self.vocab = vocab\n",
        "        df = pd.read_csv(csv_fpath)\n",
        "        self.sentiments_list = list(df.sentiment)\n",
        "        self.reviews_list = list(df.vi_review)\n",
        "\n",
        "        sentiments_type = list(set(self.sentiments_list))\n",
        "        sentiments_type.sort()\n",
        "        \n",
        "        self.sentiment2id = {sentiment: i for i, sentiment in enumerate(sentiments_type)}\n",
        "\n",
        "        if tokenized_fpath:\n",
        "            self.tokenized_reviews = torch.load(tokenized_fpath)\n",
        "        else:\n",
        "            self.tokenized_reviews = self.vocab.tokenize_corpus(self.reviews_list)\n",
        "\n",
        "        self.tensor_data = self.vocab.corpus_to_tensor(self.tokenized_reviews, is_tokenized=True)\n",
        "        self.tensor_label = torch.tensor([self.sentiment2id[sentiment] for sentiment in self.sentiments_list],\n",
        "                                         dtype=torch.float64)\n",
        "        \n",
        "    def __len__(self):\n",
        "        return len(self.tensor_data)\n",
        "\n",
        "    def __getitem__(self, idx):\n",
        "        return self.tensor_data[idx], self.tensor_label[idx]"
      ]
    },
    {
      "cell_type": "code",
      "execution_count": 7,
      "metadata": {
        "colab": {
          "base_uri": "https://localhost:8080/"
        },
        "id": "5BzdXxCpAeAX",
        "outputId": "c8c4032a-c3ff-4adf-d2ab-14900dd1c0ab"
      },
      "outputs": [
        {
          "name": "stdout",
          "output_type": "stream",
          "text": [
            "Tokenize the corpus...\n"
          ]
        },
        {
          "name": "stderr",
          "output_type": "stream",
          "text": [
            "100%|██████████| 50000/50000 [31:42<00:00, 26.28it/s]  \n",
            "100%|██████████| 50000/50000 [00:09<00:00, 5137.69it/s]\n"
          ]
        }
      ],
      "source": [
        "# dataset = IMDBDataset(vocab, \"VI_IMDB.csv\", \"tokenized.pt\")\n",
        "dataset = IMDBDataset(vocab, \"VI_IMDB.csv\")"
      ]
    },
    {
      "cell_type": "code",
      "execution_count": 8,
      "metadata": {
        "id": "4h1FtIow6AGa"
      },
      "outputs": [],
      "source": [
        "torch.save(dataset.tokenized_reviews, \"tokenized.pt\")"
      ]
    },
    {
      "attachments": {},
      "cell_type": "markdown",
      "metadata": {
        "id": "LS2X1qbk_p3o"
      },
      "source": [
        "# 4. Split data"
      ]
    },
    {
      "cell_type": "code",
      "execution_count": 10,
      "metadata": {
        "colab": {
          "base_uri": "https://localhost:8080/"
        },
        "id": "KFonmRJB3B-c",
        "outputId": "bfdb079e-5a53-42bf-a57a-3a45ac816703"
      },
      "outputs": [
        {
          "data": {
            "text/plain": [
              "(40000, 5000, 5000)"
            ]
          },
          "execution_count": 10,
          "metadata": {},
          "output_type": "execute_result"
        }
      ],
      "source": [
        "from torch.utils.data import random_split\n",
        "\n",
        "\n",
        "split_rate = 0.8\n",
        "full_size = len(dataset)\n",
        "train_size = (int)(split_rate * full_size)\n",
        "valid_size = (int)((full_size - train_size)/2)\n",
        "test_size = full_size - train_size - valid_size\n",
        "train_dataset, valid_dataset, test_dataset = random_split(dataset, \n",
        "                                                          lengths=[train_size, valid_size, test_size])\n",
        "\n",
        "len(train_dataset), len(valid_dataset), len(test_dataset)"
      ]
    },
    {
      "attachments": {},
      "cell_type": "markdown",
      "metadata": {
        "id": "F1QhC6Uy5xJl"
      },
      "source": [
        "# 5. Create batch iterator"
      ]
    },
    {
      "cell_type": "code",
      "execution_count": 11,
      "metadata": {
        "id": "I1EEBw6nsfkf"
      },
      "outputs": [],
      "source": [
        "import numpy as np\n",
        "import math\n",
        "\n",
        "import torch\n",
        "\n",
        "\n",
        "def batch_iterator(dataset, batch_size, pad_idx, device):\n",
        "    \"\"\" Yield the reviews and sentiments of the dataset in batches\n",
        "    @param dataset (IMDBDataset)\n",
        "    @param batch_size (int)\n",
        "    @param pad_idx (int)\n",
        "    @param device (torch.device)\n",
        "    @yield dict {\"reviews\": tuple(torch.Tensor, torch.Tensor), \"sentiments\": torch.Tensor} \n",
        "    \"\"\"\n",
        "    batch_num = math.ceil(len(dataset) / batch_size)\n",
        "    index_array = list(range(len(dataset)))\n",
        "\n",
        "    np.random.shuffle(index_array)\n",
        "\n",
        "    for i in range(batch_num):\n",
        "        indices = index_array[i * batch_size: (i + 1) * batch_size]\n",
        "        examples = [dataset[idx] for idx in indices]\n",
        "\n",
        "        examples = sorted(examples, key=lambda e: len(e[0]), reverse=True)\n",
        "\n",
        "        reviews = [e[0] for e in examples]\n",
        "        reviews = torch.nn.utils.rnn.pad_sequence(reviews, \n",
        "                                                  batch_first=False, \n",
        "                                                  padding_value=pad_idx).to(device)\n",
        "        reviews_lengths = torch.tensor([len(e[0]) for e in examples])\n",
        "        sentiments = torch.tensor([e[1] for e in examples]).to(device)\n",
        "\n",
        "        yield {\"reviews\": (reviews, reviews_lengths), \"sentiments\": sentiments} "
      ]
    },
    {
      "attachments": {},
      "cell_type": "markdown",
      "metadata": {
        "id": "IbrDDCwvA1QS"
      },
      "source": [
        "# 6. Recurrent Neural Network model"
      ]
    },
    {
      "cell_type": "code",
      "execution_count": 12,
      "metadata": {
        "id": "bKebhWVcY4ZT"
      },
      "outputs": [],
      "source": [
        "import torch.nn as nn\n",
        "\n",
        "\n",
        "class RNN(nn.Module):\n",
        "    def __init__(self, vocab_size, embedding_dim, hidden_dim, n_layers, \n",
        "                 bidirectional, dropout, pad_idx):\n",
        "        \"\"\"\n",
        "        @param vocab_size (int)\n",
        "        @param embedding_dim (int)\n",
        "        @param hidden_dim (int)\n",
        "        @param n_layers (int)\n",
        "        @param bidirectional (bool)\n",
        "        @param dropout (float)\n",
        "        @param pad_idx (int)\n",
        "        \"\"\"\n",
        "        super().__init__()\n",
        "        \n",
        "        self.embedding = nn.Embedding(vocab_size, embedding_dim, padding_idx = pad_idx)\n",
        "        \n",
        "        self.rnn = nn.LSTM(embedding_dim, \n",
        "                           hidden_dim, \n",
        "                           num_layers=n_layers, \n",
        "                           bidirectional=bidirectional, \n",
        "                           dropout=dropout)\n",
        "        \n",
        "        self.fc = nn.Linear(hidden_dim * 2, 1)\n",
        "        \n",
        "        self.dropout = nn.Dropout(dropout)\n",
        "        \n",
        "    def forward(self, text, text_lengths):\n",
        "        \"\"\"\n",
        "        @param text (torch.Tensor): shape = [sent len, batch size]\n",
        "        @param text_lengths (torch.Tensor): shape = [batch size]\n",
        "        @return\n",
        "        \"\"\"\n",
        "        #text = [sent len, batch size]\n",
        "        embedded = self.dropout(self.embedding(text))\n",
        "        \n",
        "        #embedded = [sent len, batch size, emb dim]\n",
        "        \n",
        "        #pack sequence\n",
        "        # lengths need to be on CPU!\n",
        "        packed_embedded = nn.utils.rnn.pack_padded_sequence(embedded, text_lengths.to('cpu'))\n",
        "        \n",
        "        packed_output, (hidden, cell) = self.rnn(packed_embedded)\n",
        "        \n",
        "        #unpack sequence\n",
        "        output, output_lengths = nn.utils.rnn.pad_packed_sequence(packed_output)\n",
        "\n",
        "        #output = [sent len, batch size, hid dim * num directions]\n",
        "        #output over padding tokens are zero tensors\n",
        "        \n",
        "        #hidden = [num layers * num directions, batch size, hid dim]\n",
        "        #cell = [num layers * num directions, batch size, hid dim]\n",
        "        \n",
        "        #concat the final forward (hidden[-2,:,:]) and backward (hidden[-1,:,:]) hidden layers\n",
        "        #and apply dropout\n",
        "        \n",
        "        hidden = self.dropout(torch.cat((hidden[-2,:,:], hidden[-1,:,:]), dim = 1))\n",
        "                \n",
        "        #hidden = [batch size, hid dim * num directions]\n",
        "            \n",
        "        return self.fc(hidden)"
      ]
    },
    {
      "cell_type": "code",
      "execution_count": 13,
      "metadata": {
        "id": "R1ZA25vwwLVx"
      },
      "outputs": [],
      "source": [
        "INPUT_DIM = word_embedding.vectors.shape[0]\n",
        "EMBEDDING_DIM = 100\n",
        "BATCH_SIZE = 100\n",
        "HIDDEN_DIM = 256\n",
        "N_LAYERS = 2\n",
        "BIDIRECTIONAL = True\n",
        "DROPOUT = 0.5\n",
        "PAD_IDX = vocab[\"<pad>\"]\n",
        "UNK_IDX = vocab[\"<unk>\"]\n",
        "\n",
        "model = RNN(INPUT_DIM, \n",
        "            EMBEDDING_DIM, \n",
        "            HIDDEN_DIM, \n",
        "            N_LAYERS, \n",
        "            BIDIRECTIONAL, \n",
        "            DROPOUT, \n",
        "            PAD_IDX)"
      ]
    },
    {
      "cell_type": "code",
      "execution_count": 14,
      "metadata": {
        "id": "4fySH4Ci294V"
      },
      "outputs": [],
      "source": [
        "model.embedding.weight.data.copy_(word_embedding.vectors)\n",
        "model.embedding.weight.data[UNK_IDX] = torch.zeros(EMBEDDING_DIM)\n",
        "model.embedding.weight.data[PAD_IDX] = torch.zeros(EMBEDDING_DIM)"
      ]
    },
    {
      "cell_type": "code",
      "execution_count": 15,
      "metadata": {
        "colab": {
          "base_uri": "https://localhost:8080/"
        },
        "id": "5mtMFIZUxMs1",
        "outputId": "f758b3e3-9827-4785-a0e0-aac4502aa919"
      },
      "outputs": [
        {
          "name": "stdout",
          "output_type": "stream",
          "text": [
            "The model has 161,061,357 trainable parameters\n"
          ]
        }
      ],
      "source": [
        "def count_parameters(model):\n",
        "    return sum(p.numel() for p in model.parameters() if p.requires_grad)\n",
        "\n",
        "print(f'The model has {count_parameters(model):,} trainable parameters')"
      ]
    },
    {
      "attachments": {},
      "cell_type": "markdown",
      "metadata": {
        "id": "X2W8eI0y99PO"
      },
      "source": [
        "# 7. Train the model"
      ]
    },
    {
      "cell_type": "code",
      "execution_count": 17,
      "metadata": {
        "id": "QY0P8iXT_kic"
      },
      "outputs": [],
      "source": [
        "import torch.optim as optim\n",
        "\n",
        "device = torch.device('cuda' if torch.cuda.is_available() else 'cpu')\n",
        "\n",
        "optimizer = optim.Adam(model.parameters())\n",
        "criterion = nn.BCEWithLogitsLoss().to(device)\n",
        "\n",
        "model = model.to(device)"
      ]
    },
    {
      "cell_type": "code",
      "execution_count": 18,
      "metadata": {
        "id": "IZRefC7b_xz7"
      },
      "outputs": [],
      "source": [
        "def binary_accuracy(preds, y):\n",
        "    \"\"\"\n",
        "    Returns accuracy per batch, i.e. if you get 8/10 right, this returns 0.8, NOT 8\n",
        "    @param preds (torch.Tensor): shape = [batch_size]\n",
        "    @param y (torch.Tensor): shape = [batch_size]\n",
        "    @return acc (torch.Tensor): shape = [1]\n",
        "    \"\"\"\n",
        "    #round predictions to the closest integer\n",
        "    rounded_preds = torch.round(torch.sigmoid(preds))\n",
        "    correct = (rounded_preds == y).float() #convert into float for division \n",
        "    acc = correct.sum() / len(correct)\n",
        "    return acc"
      ]
    },
    {
      "cell_type": "code",
      "execution_count": 19,
      "metadata": {
        "id": "rW_HPt7s_2J6"
      },
      "outputs": [],
      "source": [
        "def train(model, dataset, batch_size, optimizer, criterion, pad_idx, device):\n",
        "    \"\"\"\n",
        "    @param model (RNN)\n",
        "    @param dataset (IMDBDataset)\n",
        "    @param batch_size (int)\n",
        "    @param optimizer (torch.optim)\n",
        "    @param criterion (torch.nn.modules.loss)\n",
        "    @param pad_idx (int)\n",
        "    @param device (torch.device)\n",
        "    @return epoch_loss (float): model's loss of this epoch\n",
        "    @return epoch_acc (float): model's accuracy of this epoch \n",
        "    \"\"\"\n",
        "    epoch_loss = 0\n",
        "    epoch_acc = 0\n",
        "    \n",
        "    model.train()\n",
        "    \n",
        "    for batch in batch_iterator(dataset, batch_size, pad_idx, device):\n",
        "        \n",
        "        optimizer.zero_grad()\n",
        "        \n",
        "        reviews, reviews_lengths = batch[\"reviews\"]\n",
        "        \n",
        "        predictions = model(reviews, reviews_lengths).squeeze(1)\n",
        "        \n",
        "        loss = criterion(predictions, batch[\"sentiments\"])\n",
        "        \n",
        "        acc = binary_accuracy(predictions, batch[\"sentiments\"])\n",
        "        \n",
        "        loss.backward()\n",
        "        \n",
        "        optimizer.step()\n",
        "        \n",
        "        epoch_loss += loss.item()\n",
        "        epoch_acc += acc.item()\n",
        "    \n",
        "    batch_num = math.ceil(len(dataset) / batch_size)\n",
        "    return epoch_loss / batch_num, epoch_acc / batch_num"
      ]
    },
    {
      "cell_type": "code",
      "execution_count": 20,
      "metadata": {
        "id": "9TViPLND_4WS"
      },
      "outputs": [],
      "source": [
        "def evaluate(model, dataset, batch_size, criterion, pad_idx, device):\n",
        "    \"\"\"\n",
        "    @param model (RNN)\n",
        "    @param dataset (IMDBDataset)\n",
        "    @param batch_size (int)\n",
        "    @param criterion (torch.nn.modules.loss)\n",
        "    @param pad_idx (int)\n",
        "    @param device (torch.device)\n",
        "    @return epoch_loss (float): model's loss of this epoch\n",
        "    @return epoch_acc (float): model's accuracy of this epoch \n",
        "    \"\"\"\n",
        "    epoch_loss = 0\n",
        "    epoch_acc = 0\n",
        "    \n",
        "    model.eval()\n",
        "    \n",
        "    with torch.no_grad():\n",
        "    \n",
        "        for batch in batch_iterator(dataset, batch_size, pad_idx, device):\n",
        "\n",
        "            reviews, reviews_lengths = batch[\"reviews\"]\n",
        "            \n",
        "            predictions = model(reviews, reviews_lengths).squeeze(1)\n",
        "            \n",
        "            loss = criterion(predictions, batch[\"sentiments\"])\n",
        "            \n",
        "            acc = binary_accuracy(predictions, batch[\"sentiments\"])\n",
        "\n",
        "            epoch_loss += loss.item()\n",
        "            epoch_acc += acc.item()\n",
        "        \n",
        "    batch_num = math.ceil(len(dataset) / batch_size)\n",
        "    return epoch_loss / batch_num, epoch_acc / batch_num"
      ]
    },
    {
      "cell_type": "code",
      "execution_count": 21,
      "metadata": {
        "id": "ns4tZi3gPqwE"
      },
      "outputs": [],
      "source": [
        "import time\n",
        "\n",
        "def epoch_time(start_time, end_time):\n",
        "    elapsed_time = end_time - start_time\n",
        "    elapsed_mins = int(elapsed_time / 60)\n",
        "    elapsed_secs = int(elapsed_time - (elapsed_mins * 60))\n",
        "    return elapsed_mins, elapsed_secs"
      ]
    },
    {
      "cell_type": "code",
      "execution_count": 22,
      "metadata": {
        "colab": {
          "base_uri": "https://localhost:8080/"
        },
        "id": "cfy1qorGIZhr",
        "outputId": "5047f31b-8414-45ac-b7c1-3e57d268b6bc"
      },
      "outputs": [],
      "source": [
        "N_EPOCHS = 5\n",
        "\n",
        "best_valid_loss = float(\"inf\")\n",
        "\n",
        "for epoch in range(N_EPOCHS):\n",
        "\n",
        "    start_time = time.time()\n",
        "    \n",
        "    train_loss, train_acc = train(model, train_dataset, BATCH_SIZE, \n",
        "                                  optimizer, criterion, PAD_IDX, device)\n",
        "    valid_loss, valid_acc = evaluate(model, valid_dataset, BATCH_SIZE, \n",
        "                                     criterion, PAD_IDX, device)\n",
        "    \n",
        "    end_time = time.time()\n",
        "\n",
        "    epoch_mins, epoch_secs = epoch_time(start_time, end_time)\n",
        "    \n",
        "    if valid_loss < best_valid_loss:\n",
        "        best_valid_loss = valid_loss\n",
        "        torch.save(model.state_dict(), \"model.pt\")\n",
        "    \n",
        "    print(f\"Epoch: {epoch+1:02} | Epoch Time: {epoch_mins}m {epoch_secs}s\")\n",
        "    print(f\"\\tTrain Loss: {train_loss:.3f} | Train Acc: {train_acc*100:.2f}%\")\n",
        "    print(f\"\\t Val. Loss: {valid_loss:.3f} |  Val. Acc: {valid_acc*100:.2f}%\")"
      ]
    },
    {
      "attachments": {},
      "cell_type": "markdown",
      "metadata": {
        "id": "LUyVw6Yw7eru"
      },
      "source": [
        "# 8. Test the model"
      ]
    },
    {
      "cell_type": "code",
      "execution_count": null,
      "metadata": {
        "colab": {
          "base_uri": "https://localhost:8080/"
        },
        "id": "tLKczw3Z8XZ0",
        "outputId": "fe064e31-0ee0-4e31-a8cf-fcbe94080d8c"
      },
      "outputs": [
        {
          "name": "stdout",
          "output_type": "stream",
          "text": [
            "Test Loss: 0.270 | Test Acc: 89.48%\n"
          ]
        }
      ],
      "source": [
        "test_loss, test_acc = evaluate(model, test_dataset, BATCH_SIZE, \n",
        "                               criterion, PAD_IDX, device)\n",
        "\n",
        "print(f'Test Loss: {test_loss:.3f} | Test Acc: {test_acc*100:.2f}%')"
      ]
    },
    {
      "cell_type": "code",
      "execution_count": null,
      "metadata": {
        "id": "bQTUTTo28sGD"
      },
      "outputs": [],
      "source": [
        "def predict_sentiment(model, sentence, vocab, device):\n",
        "    model.eval()\n",
        "    corpus = [sentence]\n",
        "    tensor = vocab.corpus_to_tensor(corpus)[0].to(device)\n",
        "    tensor = tensor.unsqueeze(1)\n",
        "    length = [len(tensor)]\n",
        "    length_tensor = torch.LongTensor(length)\n",
        "    prediction = torch.sigmoid(model(tensor, length_tensor))\n",
        "    return prediction.item()"
      ]
    },
    {
      "cell_type": "code",
      "execution_count": null,
      "metadata": {
        "colab": {
          "base_uri": "https://localhost:8080/"
        },
        "id": "lKxSmMbO929G",
        "outputId": "a33b362b-0adb-41c8-a869-743128f5d3fb"
      },
      "outputs": [
        {
          "data": {
            "text/plain": [
              "{'positive': 0, 'negative': 1}"
            ]
          },
          "execution_count": 28,
          "metadata": {},
          "output_type": "execute_result"
        }
      ],
      "source": [
        "dataset.sentiment2id"
      ]
    },
    {
      "cell_type": "code",
      "execution_count": null,
      "metadata": {
        "colab": {
          "base_uri": "https://localhost:8080/"
        },
        "id": "910L0SwL9wtB",
        "outputId": "ba32dfc0-a161-427b-e7ac-9e0709a339dd"
      },
      "outputs": [
        {
          "name": "stdout",
          "output_type": "stream",
          "text": [
            "Tokenize the corpus...\n"
          ]
        },
        {
          "name": "stderr",
          "output_type": "stream",
          "text": [
            "100%|██████████| 1/1 [00:00<00:00, 270.29it/s]\n",
            "100%|██████████| 1/1 [00:00<00:00, 6232.25it/s]\n"
          ]
        },
        {
          "data": {
            "text/plain": [
              "0.9958381652832031"
            ]
          },
          "execution_count": 29,
          "metadata": {},
          "output_type": "execute_result"
        }
      ],
      "source": [
        "sentence = \"Bộ phim này rất dở! Nội dung cực kì nhàm chán\"\n",
        "\n",
        "predict_sentiment(model, sentence, vocab, device)"
      ]
    },
    {
      "cell_type": "code",
      "execution_count": null,
      "metadata": {
        "colab": {
          "base_uri": "https://localhost:8080/"
        },
        "id": "DP8-kF-KAJYx",
        "outputId": "f2951781-6cce-40d5-8e3c-9671c80ed14a"
      },
      "outputs": [
        {
          "name": "stdout",
          "output_type": "stream",
          "text": [
            "Tokenize the corpus...\n"
          ]
        },
        {
          "name": "stderr",
          "output_type": "stream",
          "text": [
            "100%|██████████| 1/1 [00:00<00:00, 1456.86it/s]\n",
            "100%|██████████| 1/1 [00:00<00:00, 8422.30it/s]\n"
          ]
        },
        {
          "data": {
            "text/plain": [
              "0.032079365104436874"
            ]
          },
          "execution_count": 30,
          "metadata": {},
          "output_type": "execute_result"
        }
      ],
      "source": [
        "sentence = \"Bộ phim này rất hay! Nhiều tình tiết rất kịch tính.\"\n",
        "\n",
        "predict_sentiment(model, sentence, vocab, device)"
      ]
    }
  ],
  "metadata": {
    "accelerator": "GPU",
    "colab": {
      "provenance": []
    },
    "gpuClass": "standard",
    "kernelspec": {
      "display_name": "venv",
      "language": "python",
      "name": "python3"
    },
    "language_info": {
      "codemirror_mode": {
        "name": "ipython",
        "version": 3
      },
      "file_extension": ".py",
      "mimetype": "text/x-python",
      "name": "python",
      "nbconvert_exporter": "python",
      "pygments_lexer": "ipython3",
      "version": "3.8.10 (tags/v3.8.10:3d8993a, May  3 2021, 11:48:03) [MSC v.1928 64 bit (AMD64)]"
    },
    "vscode": {
      "interpreter": {
        "hash": "84e0e744548a528a56241985665073c61e54782fb2081dbeae23241bb01d25ec"
      }
    }
  },
  "nbformat": 4,
  "nbformat_minor": 0
}
